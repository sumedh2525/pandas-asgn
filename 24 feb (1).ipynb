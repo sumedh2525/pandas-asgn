{
 "cells": [
  {
   "cell_type": "code",
   "execution_count": 3,
   "id": "8e6fcb25-0654-436b-ba4e-6d7706c4ec84",
   "metadata": {},
   "outputs": [],
   "source": [
    "import pandas as pd\n",
    "\n",
    "import numpy as np"
   ]
  },
  {
   "cell_type": "markdown",
   "id": "4b2daee0-f93c-44b1-ba24-a50cc0d639fe",
   "metadata": {},
   "source": [
    "Q1. List any five functions of the pandas library with execution.\n",
    "\n",
    "Ans: 1. Head and Tail\n",
    "     2. DataFrame.info( )\n",
    "     3. Dtypes\n",
    "     4. Shape and Size\n",
    "     5. describe( )"
   ]
  },
  {
   "cell_type": "code",
   "execution_count": 4,
   "id": "e7788044-7807-4887-87e7-5d7e8b838740",
   "metadata": {},
   "outputs": [],
   "source": [
    "#Q2. Given a Pandas DataFrame df with columns 'A', 'B', and 'C', write a Python function to re-index the\n",
    "#DataFrame with a new index that starts from 1 and increments by 2 for each row.\n",
    "\n",
    "\n",
    "data = [(\"ford\", \"Endever\" , \"25 lakh\") , (\"Toyato\" , \"fortuner\" , \"40 lakh\") , (\"Mahindra\" , \"Thar\" , \"18 lakh\"),\n",
    "       (\"tata\" , \"Harrier\" , \"25 lakh\")]\n",
    "\n",
    "df = pd.DataFrame(data, columns=(\"A\" , \"B\" , \"C\"))"
   ]
  },
  {
   "cell_type": "code",
   "execution_count": 5,
   "id": "712bbba3-5cf5-438e-a294-9987c1c625e4",
   "metadata": {},
   "outputs": [
    {
     "data": {
      "text/html": [
       "<div>\n",
       "<style scoped>\n",
       "    .dataframe tbody tr th:only-of-type {\n",
       "        vertical-align: middle;\n",
       "    }\n",
       "\n",
       "    .dataframe tbody tr th {\n",
       "        vertical-align: top;\n",
       "    }\n",
       "\n",
       "    .dataframe thead th {\n",
       "        text-align: right;\n",
       "    }\n",
       "</style>\n",
       "<table border=\"1\" class=\"dataframe\">\n",
       "  <thead>\n",
       "    <tr style=\"text-align: right;\">\n",
       "      <th></th>\n",
       "      <th>A</th>\n",
       "      <th>B</th>\n",
       "      <th>C</th>\n",
       "    </tr>\n",
       "  </thead>\n",
       "  <tbody>\n",
       "    <tr>\n",
       "      <th>0</th>\n",
       "      <td>ford</td>\n",
       "      <td>Endever</td>\n",
       "      <td>25 lakh</td>\n",
       "    </tr>\n",
       "    <tr>\n",
       "      <th>1</th>\n",
       "      <td>Toyato</td>\n",
       "      <td>fortuner</td>\n",
       "      <td>40 lakh</td>\n",
       "    </tr>\n",
       "    <tr>\n",
       "      <th>2</th>\n",
       "      <td>Mahindra</td>\n",
       "      <td>Thar</td>\n",
       "      <td>18 lakh</td>\n",
       "    </tr>\n",
       "    <tr>\n",
       "      <th>3</th>\n",
       "      <td>tata</td>\n",
       "      <td>Harrier</td>\n",
       "      <td>25 lakh</td>\n",
       "    </tr>\n",
       "  </tbody>\n",
       "</table>\n",
       "</div>"
      ],
      "text/plain": [
       "          A         B        C\n",
       "0      ford   Endever  25 lakh\n",
       "1    Toyato  fortuner  40 lakh\n",
       "2  Mahindra      Thar  18 lakh\n",
       "3      tata   Harrier  25 lakh"
      ]
     },
     "execution_count": 5,
     "metadata": {},
     "output_type": "execute_result"
    }
   ],
   "source": [
    "df"
   ]
  },
  {
   "cell_type": "code",
   "execution_count": 6,
   "id": "74a96c3b-219c-49df-a4e4-a65c06131f80",
   "metadata": {},
   "outputs": [
    {
     "data": {
      "text/html": [
       "<div>\n",
       "<style scoped>\n",
       "    .dataframe tbody tr th:only-of-type {\n",
       "        vertical-align: middle;\n",
       "    }\n",
       "\n",
       "    .dataframe tbody tr th {\n",
       "        vertical-align: top;\n",
       "    }\n",
       "\n",
       "    .dataframe thead th {\n",
       "        text-align: right;\n",
       "    }\n",
       "</style>\n",
       "<table border=\"1\" class=\"dataframe\">\n",
       "  <thead>\n",
       "    <tr style=\"text-align: right;\">\n",
       "      <th></th>\n",
       "      <th>A</th>\n",
       "      <th>B</th>\n",
       "      <th>C</th>\n",
       "    </tr>\n",
       "  </thead>\n",
       "  <tbody>\n",
       "    <tr>\n",
       "      <th>1</th>\n",
       "      <td>Toyato</td>\n",
       "      <td>fortuner</td>\n",
       "      <td>40 lakh</td>\n",
       "    </tr>\n",
       "    <tr>\n",
       "      <th>3</th>\n",
       "      <td>tata</td>\n",
       "      <td>Harrier</td>\n",
       "      <td>25 lakh</td>\n",
       "    </tr>\n",
       "    <tr>\n",
       "      <th>5</th>\n",
       "      <td>NaN</td>\n",
       "      <td>NaN</td>\n",
       "      <td>NaN</td>\n",
       "    </tr>\n",
       "  </tbody>\n",
       "</table>\n",
       "</div>"
      ],
      "text/plain": [
       "        A         B        C\n",
       "1  Toyato  fortuner  40 lakh\n",
       "3    tata   Harrier  25 lakh\n",
       "5     NaN       NaN      NaN"
      ]
     },
     "execution_count": 6,
     "metadata": {},
     "output_type": "execute_result"
    }
   ],
   "source": [
    "df.reindex([1,3,5])"
   ]
  },
  {
   "cell_type": "code",
   "execution_count": 7,
   "id": "a545a67f-6808-4b16-84f8-3cdb27b23f7e",
   "metadata": {},
   "outputs": [
    {
     "name": "stdout",
     "output_type": "stream",
     "text": [
      "values    60\n",
      "dtype: int64\n"
     ]
    }
   ],
   "source": [
    "#Q3. You have a Pandas DataFrame df with a column named 'Values'. Write a Python function that\n",
    "#iterates over the DataFrame and calculates the sum of the first three values in the 'Values' column. The\n",
    "#function should print the sum to the console.\n",
    "\n",
    "#For example, if the 'Values' column of df contains the values [10, 20, 30, 40, 50], your function should\n",
    "#calculate and print the sum of the first three values, which is 60\n",
    "\n",
    "data = [10, 20, 30, 40, 50]\n",
    "df = pd.DataFrame(data , columns=['values'])\n",
    "sum = df.iloc[0:3].sum()\n",
    "print(sum)\n"
   ]
  },
  {
   "cell_type": "code",
   "execution_count": 8,
   "id": "0e1eef5e-7b62-42c5-8310-6c49958e4a5b",
   "metadata": {
    "scrolled": true,
    "tags": []
   },
   "outputs": [
    {
     "data": {
      "text/plain": [
       "values    60\n",
       "dtype: int64"
      ]
     },
     "execution_count": 8,
     "metadata": {},
     "output_type": "execute_result"
    }
   ],
   "source": [
    "sum"
   ]
  },
  {
   "cell_type": "code",
   "execution_count": 9,
   "id": "45dfe6da-3233-4a8c-a854-0d855d7f99ec",
   "metadata": {},
   "outputs": [
    {
     "data": {
      "text/html": [
       "<div>\n",
       "<style scoped>\n",
       "    .dataframe tbody tr th:only-of-type {\n",
       "        vertical-align: middle;\n",
       "    }\n",
       "\n",
       "    .dataframe tbody tr th {\n",
       "        vertical-align: top;\n",
       "    }\n",
       "\n",
       "    .dataframe thead th {\n",
       "        text-align: right;\n",
       "    }\n",
       "</style>\n",
       "<table border=\"1\" class=\"dataframe\">\n",
       "  <thead>\n",
       "    <tr style=\"text-align: right;\">\n",
       "      <th></th>\n",
       "      <th>Text</th>\n",
       "      <th>Word_Count</th>\n",
       "    </tr>\n",
       "  </thead>\n",
       "  <tbody>\n",
       "    <tr>\n",
       "      <th>0</th>\n",
       "      <td>Chennai super kings</td>\n",
       "      <td>3</td>\n",
       "    </tr>\n",
       "    <tr>\n",
       "      <th>1</th>\n",
       "      <td>Mumbai Indians</td>\n",
       "      <td>2</td>\n",
       "    </tr>\n",
       "    <tr>\n",
       "      <th>2</th>\n",
       "      <td>Kolkata knight riders</td>\n",
       "      <td>3</td>\n",
       "    </tr>\n",
       "    <tr>\n",
       "      <th>3</th>\n",
       "      <td>Royal challangers Bangalore</td>\n",
       "      <td>3</td>\n",
       "    </tr>\n",
       "  </tbody>\n",
       "</table>\n",
       "</div>"
      ],
      "text/plain": [
       "                          Text  Word_Count\n",
       "0          Chennai super kings           3\n",
       "1               Mumbai Indians           2\n",
       "2        Kolkata knight riders           3\n",
       "3  Royal challangers Bangalore           3"
      ]
     },
     "execution_count": 9,
     "metadata": {},
     "output_type": "execute_result"
    }
   ],
   "source": [
    "#Q4. Given a Pandas DataFrame df with a column 'Text', write a Python function to create a new column\n",
    "#'Word_Count' that contains the number of words in each row of the 'Text' column.\n",
    "\n",
    "\n",
    "data = ['Chennai super kings','Mumbai Indians','Kolkata knight riders','Royal challangers Bangalore']\n",
    "df = pd.DataFrame(data , columns=['Text'])\n",
    "x = df['Text'].str.count(' ')+1\n",
    "df['Word_Count'] = x\n",
    "df\n"
   ]
  },
  {
   "cell_type": "code",
   "execution_count": 10,
   "id": "468472fd-a9cb-4ea7-a8eb-db5580a9c496",
   "metadata": {},
   "outputs": [],
   "source": [
    "#Q5. How are DataFrame.size() and DataFrame.shape() different?\n",
    "\n",
    "\n",
    "#The size property returns the number of elements in the DataFrame. The number of elements is the number of rows * the number of columns.\n",
    "\n",
    "#shape attribute in Pandas enables us to obtain the shape of a DataFrame. For example, if a DataFrame has a shape of (80, 10) ,\n",
    "#this implies that the DataFrame is made up of 80 rows and 10 columns of data."
   ]
  },
  {
   "cell_type": "raw",
   "id": "4bf3d4b5-67b8-4ed5-ab41-335cd44d450e",
   "metadata": {},
   "source": [
    "Q6. Which function of pandas do we use to read an excel file?\n",
    "\n",
    "Ans:-To read an excel file as a DataFrame, use the pandas read_excel() method"
   ]
  },
  {
   "cell_type": "code",
   "execution_count": 11,
   "id": "487f4cba-c862-4538-b8a1-111a34f9256f",
   "metadata": {},
   "outputs": [
    {
     "data": {
      "text/html": [
       "<div>\n",
       "<style scoped>\n",
       "    .dataframe tbody tr th:only-of-type {\n",
       "        vertical-align: middle;\n",
       "    }\n",
       "\n",
       "    .dataframe tbody tr th {\n",
       "        vertical-align: top;\n",
       "    }\n",
       "\n",
       "    .dataframe thead th {\n",
       "        text-align: right;\n",
       "    }\n",
       "</style>\n",
       "<table border=\"1\" class=\"dataframe\">\n",
       "  <thead>\n",
       "    <tr style=\"text-align: right;\">\n",
       "      <th></th>\n",
       "      <th>Email</th>\n",
       "      <th>Username</th>\n",
       "    </tr>\n",
       "  </thead>\n",
       "  <tbody>\n",
       "    <tr>\n",
       "      <th>0</th>\n",
       "      <td>Munnabhaiya@gmail.com</td>\n",
       "      <td>Munnabhaiya</td>\n",
       "    </tr>\n",
       "    <tr>\n",
       "      <th>1</th>\n",
       "      <td>Kaleenthipathi@gmail.com</td>\n",
       "      <td>Kaleenthipathi</td>\n",
       "    </tr>\n",
       "    <tr>\n",
       "      <th>2</th>\n",
       "      <td>Guddupandit@gmail.com</td>\n",
       "      <td>Guddupandit</td>\n",
       "    </tr>\n",
       "    <tr>\n",
       "      <th>3</th>\n",
       "      <td>bablupandit@gmail.com</td>\n",
       "      <td>bablupandit</td>\n",
       "    </tr>\n",
       "  </tbody>\n",
       "</table>\n",
       "</div>"
      ],
      "text/plain": [
       "                      Email        Username\n",
       "0     Munnabhaiya@gmail.com     Munnabhaiya\n",
       "1  Kaleenthipathi@gmail.com  Kaleenthipathi\n",
       "2     Guddupandit@gmail.com     Guddupandit\n",
       "3     bablupandit@gmail.com     bablupandit"
      ]
     },
     "execution_count": 11,
     "metadata": {},
     "output_type": "execute_result"
    }
   ],
   "source": [
    "#Q7. You have a Pandas DataFrame df that contains a column named 'Email' that contains email\n",
    "#addresses in the format 'username@domain.com'. Write a Python function that creates a new column\n",
    "#'Username' in df that contains only the username part of each email address.\n",
    "#The username is the part of the email address that appears before the '@' symbol. For example, if the \n",
    "#email address is 'john.doe@example.com', the 'Username' column should contain 'john.doe'. Your \n",
    "#function should extract the username from each email address and store it in the new 'Username' \n",
    "#column\n",
    "\n",
    "emails = ['Munnabhaiya@gmail.com','Kaleenthipathi@gmail.com','Guddupandit@gmail.com','bablupandit@gmail.com']\n",
    "\n",
    "df = pd.DataFrame(emails , columns=['Email'])\n",
    "\n",
    "df['Username'] = df['Email'].str.split('@').str[0]\n",
    "df"
   ]
  },
  {
   "cell_type": "code",
   "execution_count": 12,
   "id": "bd34ed35-5c02-4792-aa11-3a343395ee62",
   "metadata": {},
   "outputs": [
    {
     "data": {
      "text/html": [
       "<div>\n",
       "<style scoped>\n",
       "    .dataframe tbody tr th:only-of-type {\n",
       "        vertical-align: middle;\n",
       "    }\n",
       "\n",
       "    .dataframe tbody tr th {\n",
       "        vertical-align: top;\n",
       "    }\n",
       "\n",
       "    .dataframe thead th {\n",
       "        text-align: right;\n",
       "    }\n",
       "</style>\n",
       "<table border=\"1\" class=\"dataframe\">\n",
       "  <thead>\n",
       "    <tr style=\"text-align: right;\">\n",
       "      <th></th>\n",
       "      <th>A</th>\n",
       "      <th>B</th>\n",
       "      <th>C</th>\n",
       "    </tr>\n",
       "  </thead>\n",
       "  <tbody>\n",
       "    <tr>\n",
       "      <th>2</th>\n",
       "      <td>8</td>\n",
       "      <td>7</td>\n",
       "      <td>4</td>\n",
       "    </tr>\n",
       "    <tr>\n",
       "      <th>3</th>\n",
       "      <td>9</td>\n",
       "      <td>1</td>\n",
       "      <td>9</td>\n",
       "    </tr>\n",
       "  </tbody>\n",
       "</table>\n",
       "</div>"
      ],
      "text/plain": [
       "   A  B  C\n",
       "2  8  7  4\n",
       "3  9  1  9"
      ]
     },
     "execution_count": 12,
     "metadata": {},
     "output_type": "execute_result"
    }
   ],
   "source": [
    "# Q8. You have a Pandas DataFrame df with columns 'A', 'B', and 'C'. # Write a Python function that selects \n",
    "# all rows where the value in column 'A' is greater than 5 and the # value in column 'B' is less than 10. The \n",
    "# function should return a new DataFrame that contains only the # selected rows.\n",
    "\n",
    "# For example, if df contains the following values:\n",
    "\n",
    "import pandas as pd\n",
    "\n",
    "data = {'A': [1,4,8,9], 'B': [8,2,7,1] , 'C': [2,7,4,9,]}\n",
    "df = pd.DataFrame(data)\n",
    "df\n",
    "def selected_rows(df):\n",
    "    selectedrows = df[(df['A'] > 5 )&(df['B'] < 10)]\n",
    "    return selectedrows\n",
    "\n",
    "df = selected_rows(df)\n",
    "df\n",
    "    "
   ]
  },
  {
   "cell_type": "code",
   "execution_count": 19,
   "id": "02753372-7889-4d46-96cd-4cbfeddbe4a3",
   "metadata": {},
   "outputs": [
    {
     "data": {
      "text/plain": [
       "(Values    39.0\n",
       " dtype: float64,\n",
       " Values    38.5\n",
       " dtype: float64,\n",
       " Values    23.460605\n",
       " dtype: float64)"
      ]
     },
     "execution_count": 19,
     "metadata": {},
     "output_type": "execute_result"
    }
   ],
   "source": [
    "# Q9. Given a Pandas DataFrame df with a column 'Values', write a Python function to calculate the mean, \n",
    "# median, and standard deviation of the values in the 'Values' column\n",
    " \n",
    "data = [45,78,23,46,32,10]\n",
    "df = pd.DataFrame(data, columns=['Values'])\n",
    "df\n",
    "\n",
    "df.mean(),df.median() , df.std()"
   ]
  },
  {
   "cell_type": "code",
   "execution_count": 20,
   "id": "fd0c10c0-2052-47ed-8963-5eec4112fada",
   "metadata": {},
   "outputs": [
    {
     "data": {
      "text/html": [
       "<div>\n",
       "<style scoped>\n",
       "    .dataframe tbody tr th:only-of-type {\n",
       "        vertical-align: middle;\n",
       "    }\n",
       "\n",
       "    .dataframe tbody tr th {\n",
       "        vertical-align: top;\n",
       "    }\n",
       "\n",
       "    .dataframe thead th {\n",
       "        text-align: right;\n",
       "    }\n",
       "</style>\n",
       "<table border=\"1\" class=\"dataframe\">\n",
       "  <thead>\n",
       "    <tr style=\"text-align: right;\">\n",
       "      <th></th>\n",
       "      <th>Date</th>\n",
       "      <th>Sales</th>\n",
       "      <th>MovingAverage</th>\n",
       "    </tr>\n",
       "  </thead>\n",
       "  <tbody>\n",
       "    <tr>\n",
       "      <th>0</th>\n",
       "      <td>2022-01-01</td>\n",
       "      <td>100</td>\n",
       "      <td>100.000000</td>\n",
       "    </tr>\n",
       "    <tr>\n",
       "      <th>1</th>\n",
       "      <td>2022-01-02</td>\n",
       "      <td>200</td>\n",
       "      <td>150.000000</td>\n",
       "    </tr>\n",
       "    <tr>\n",
       "      <th>2</th>\n",
       "      <td>2022-01-03</td>\n",
       "      <td>150</td>\n",
       "      <td>150.000000</td>\n",
       "    </tr>\n",
       "    <tr>\n",
       "      <th>3</th>\n",
       "      <td>2022-01-04</td>\n",
       "      <td>300</td>\n",
       "      <td>187.500000</td>\n",
       "    </tr>\n",
       "    <tr>\n",
       "      <th>4</th>\n",
       "      <td>2022-01-05</td>\n",
       "      <td>250</td>\n",
       "      <td>200.000000</td>\n",
       "    </tr>\n",
       "    <tr>\n",
       "      <th>5</th>\n",
       "      <td>2022-01-06</td>\n",
       "      <td>400</td>\n",
       "      <td>233.333333</td>\n",
       "    </tr>\n",
       "    <tr>\n",
       "      <th>6</th>\n",
       "      <td>2022-01-07</td>\n",
       "      <td>350</td>\n",
       "      <td>250.000000</td>\n",
       "    </tr>\n",
       "    <tr>\n",
       "      <th>7</th>\n",
       "      <td>2022-01-08</td>\n",
       "      <td>500</td>\n",
       "      <td>307.142857</td>\n",
       "    </tr>\n",
       "    <tr>\n",
       "      <th>8</th>\n",
       "      <td>2022-01-09</td>\n",
       "      <td>450</td>\n",
       "      <td>342.857143</td>\n",
       "    </tr>\n",
       "    <tr>\n",
       "      <th>9</th>\n",
       "      <td>2022-01-10</td>\n",
       "      <td>600</td>\n",
       "      <td>407.142857</td>\n",
       "    </tr>\n",
       "  </tbody>\n",
       "</table>\n",
       "</div>"
      ],
      "text/plain": [
       "        Date  Sales  MovingAverage\n",
       "0 2022-01-01    100     100.000000\n",
       "1 2022-01-02    200     150.000000\n",
       "2 2022-01-03    150     150.000000\n",
       "3 2022-01-04    300     187.500000\n",
       "4 2022-01-05    250     200.000000\n",
       "5 2022-01-06    400     233.333333\n",
       "6 2022-01-07    350     250.000000\n",
       "7 2022-01-08    500     307.142857\n",
       "8 2022-01-09    450     342.857143\n",
       "9 2022-01-10    600     407.142857"
      ]
     },
     "execution_count": 20,
     "metadata": {},
     "output_type": "execute_result"
    }
   ],
   "source": [
    "# Q10. Given a Pandas DataFrame df with a column 'Sales' and a column 'Date', write a Python function to \n",
    "# create a new column 'MovingAverage' that contains the moving average of the sales for the past 7 days \n",
    "# for each row in the DataFrame. The moving average should be calculated using a window of size 7 and \n",
    "# should include the current day\n",
    "\n",
    "data = {'Date': ['2022-01-01','2022-01-02','2022-01-03','2022-01-04','2022-01-05','2022-01-06','2022-01-07','2022-01-08','2022-01-09','2022-01-10'] ,\n",
    "        'Sales': [100, 200, 150, 300, 250, 400, 350, 500, 450, 600]}\n",
    "\n",
    "df = pd.DataFrame(data)\n",
    "\n",
    "def moving_average(df):\n",
    "    df['Date'] = pd.to_datetime(df['Date'])\n",
    "    df= df.sort_values('Date')\n",
    "    lk = df['Sales'].rolling(window = 7, min_periods=1).mean()\n",
    "    \n",
    "    df['MovingAverage']=lk\n",
    "    return df\n",
    "\n",
    "\n",
    "df=moving_average(df)\n",
    "df\n"
   ]
  },
  {
   "cell_type": "code",
   "execution_count": 21,
   "id": "2cd3be12-fe28-46ec-9c01-ddc4caf391a3",
   "metadata": {},
   "outputs": [
    {
     "data": {
      "text/html": [
       "<div>\n",
       "<style scoped>\n",
       "    .dataframe tbody tr th:only-of-type {\n",
       "        vertical-align: middle;\n",
       "    }\n",
       "\n",
       "    .dataframe tbody tr th {\n",
       "        vertical-align: top;\n",
       "    }\n",
       "\n",
       "    .dataframe thead th {\n",
       "        text-align: right;\n",
       "    }\n",
       "</style>\n",
       "<table border=\"1\" class=\"dataframe\">\n",
       "  <thead>\n",
       "    <tr style=\"text-align: right;\">\n",
       "      <th></th>\n",
       "      <th>Date</th>\n",
       "      <th>Weekday</th>\n",
       "    </tr>\n",
       "  </thead>\n",
       "  <tbody>\n",
       "    <tr>\n",
       "      <th>0</th>\n",
       "      <td>2023-01-01</td>\n",
       "      <td>Sunday</td>\n",
       "    </tr>\n",
       "    <tr>\n",
       "      <th>1</th>\n",
       "      <td>2023-01-02</td>\n",
       "      <td>Monday</td>\n",
       "    </tr>\n",
       "    <tr>\n",
       "      <th>2</th>\n",
       "      <td>2023-01-03</td>\n",
       "      <td>Tuesday</td>\n",
       "    </tr>\n",
       "    <tr>\n",
       "      <th>3</th>\n",
       "      <td>2023-01-04</td>\n",
       "      <td>Wednesday</td>\n",
       "    </tr>\n",
       "    <tr>\n",
       "      <th>4</th>\n",
       "      <td>2023-01-05</td>\n",
       "      <td>Thursday</td>\n",
       "    </tr>\n",
       "  </tbody>\n",
       "</table>\n",
       "</div>"
      ],
      "text/plain": [
       "         Date    Weekday\n",
       "0  2023-01-01     Sunday\n",
       "1  2023-01-02     Monday\n",
       "2  2023-01-03    Tuesday\n",
       "3  2023-01-04  Wednesday\n",
       "4  2023-01-05   Thursday"
      ]
     },
     "execution_count": 21,
     "metadata": {},
     "output_type": "execute_result"
    }
   ],
   "source": [
    "#Q11. You have a Pandas DataFrame df with a column 'Date'. Write a Python function that creates a new \n",
    "#column 'Weekday' in the DataFrame. The 'Weekday' column should contain the weekday name (e.g. \n",
    "#Monday, Tuesday) corresponding to each date in the 'Date' column\n",
    "\n",
    "\n",
    "data = {'Date':['2023-01-01','2023-01-02','2023-01-03','2023-01-04','2023-01-05'],\n",
    "        'Weekday':['Sunday','Monday','Tuesday','Wednesday','Thursday']}\n",
    "df = pd.DataFrame(data)\n",
    "\n",
    "\n",
    "df"
   ]
  },
  {
   "cell_type": "code",
   "execution_count": 24,
   "id": "bc12b453-e0a2-46ae-bf92-3da6acf256d6",
   "metadata": {},
   "outputs": [
    {
     "name": "stdout",
     "output_type": "stream",
     "text": [
      "        Date  Value\n",
      "1 2023-01-05     20\n",
      "2 2023-01-15     30\n"
     ]
    }
   ],
   "source": [
    "# Q12. Given a Pandas DataFrame df with a column 'Date' that contains timestamps, write a Python \n",
    "# function to select all rows where the date is between '2023-01-01' and '2023-01-31'\n",
    "import pandas as pd\n",
    "\n",
    "# Example DataFrame\n",
    "df = pd.DataFrame({\n",
    "    'Date': ['2022-12-31', '2023-01-05', '2023-01-15', '2023-02-01'],\n",
    "    'Value': [10, 20, 30, 40]\n",
    "})\n",
    "\n",
    "selected_rows = select_rows_in_date_range(df)\n",
    "print(selected_rows)\n",
    "\n",
    "\n",
    "def select_rows_in_date_range(df):\n",
    "    df['Date'] = pd.to_datetime(df['Date'])  # Convert 'Date' column to datetime type\n",
    "    start_date = pd.to_datetime('2023-01-01')\n",
    "    end_date = pd.to_datetime('2023-01-31')\n",
    "    selected_rows = df[(df['Date'] >= start_date) & (df['Date'] <= end_date)]\n",
    "    return selected_rows\n"
   ]
  },
  {
   "cell_type": "raw",
   "id": "617c84bb-7d8e-449b-9d92-4ac76613f724",
   "metadata": {},
   "source": [
    " Q13. To use the basic functions of pandas, what is the first and foremost necessary library that needs to \n",
    " be imported\n",
    "\n",
    "\n",
    "Ans: As Pandas is dependent on the NumPy library, we need to import this dependency\n"
   ]
  },
  {
   "cell_type": "code",
   "execution_count": null,
   "id": "3b98168f-b812-4271-979a-49dbe984d6c5",
   "metadata": {},
   "outputs": [],
   "source": []
  },
  {
   "cell_type": "code",
   "execution_count": null,
   "id": "7a489b69-536b-4f5d-a983-abe5a7f04f69",
   "metadata": {},
   "outputs": [],
   "source": []
  },
  {
   "cell_type": "code",
   "execution_count": null,
   "id": "d37b8edc-bf29-4835-8c23-21be5f90beea",
   "metadata": {},
   "outputs": [],
   "source": []
  },
  {
   "cell_type": "code",
   "execution_count": null,
   "id": "b5999f2d-b3bf-4102-bfd3-0c77f9543053",
   "metadata": {},
   "outputs": [],
   "source": []
  },
  {
   "cell_type": "code",
   "execution_count": null,
   "id": "0dda5763-a244-4d99-9aca-3fe78b29ea00",
   "metadata": {},
   "outputs": [],
   "source": []
  },
  {
   "cell_type": "code",
   "execution_count": null,
   "id": "c1416612-aa78-4a7c-8974-17ec47294d2a",
   "metadata": {},
   "outputs": [],
   "source": []
  },
  {
   "cell_type": "code",
   "execution_count": null,
   "id": "9f75767d-ed31-4886-86d6-7e9a06b11922",
   "metadata": {},
   "outputs": [],
   "source": []
  },
  {
   "cell_type": "code",
   "execution_count": null,
   "id": "d00b04bd-995e-4ab5-b49d-c838a2a57187",
   "metadata": {},
   "outputs": [],
   "source": []
  },
  {
   "cell_type": "code",
   "execution_count": null,
   "id": "b33df8be-fef7-42a8-8b1e-653af094dbc1",
   "metadata": {},
   "outputs": [],
   "source": []
  },
  {
   "cell_type": "code",
   "execution_count": null,
   "id": "c0e58f21-c686-47e7-9025-a7d186849e9d",
   "metadata": {},
   "outputs": [],
   "source": []
  }
 ],
 "metadata": {
  "kernelspec": {
   "display_name": "Python 3 (ipykernel)",
   "language": "python",
   "name": "python3"
  },
  "language_info": {
   "codemirror_mode": {
    "name": "ipython",
    "version": 3
   },
   "file_extension": ".py",
   "mimetype": "text/x-python",
   "name": "python",
   "nbconvert_exporter": "python",
   "pygments_lexer": "ipython3",
   "version": "3.10.8"
  }
 },
 "nbformat": 4,
 "nbformat_minor": 5
}
